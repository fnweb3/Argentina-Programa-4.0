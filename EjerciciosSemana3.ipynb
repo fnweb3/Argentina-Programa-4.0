{
  "nbformat": 4,
  "nbformat_minor": 0,
  "metadata": {
    "colab": {
      "provenance": [],
      "include_colab_link": true
    },
    "kernelspec": {
      "name": "python3",
      "display_name": "Python 3"
    },
    "language_info": {
      "name": "python"
    }
  },
  "cells": [
    {
      "cell_type": "markdown",
      "metadata": {
        "id": "view-in-github",
        "colab_type": "text"
      },
      "source": [
        "<a href=\"https://colab.research.google.com/github/fnweb3/Argentina-Programa-4.0/blob/master/EjerciciosSemana3.ipynb\" target=\"_parent\"><img src=\"https://colab.research.google.com/assets/colab-badge.svg\" alt=\"Open In Colab\"/></a>"
      ]
    },
    {
      "cell_type": "markdown",
      "source": [
        "## Ejercicio 1:\n",
        "\n",
        "Escribir un código que tome una lista de cadenas y que imprima la cadena más larga de la lista."
      ],
      "metadata": {
        "id": "Qy1XWr6WXyJd"
      }
    },
    {
      "cell_type": "code",
      "source": [
        "# Entradas\n",
        "cadenas = [\"prueba\", \"programa\", \"lista\", \"algo\", \"bienvenidos\"]\n",
        "cadena_mas_larga = \"\"\n",
        "\n",
        "# Proceso\n",
        "for cadena in cadenas:\n",
        "    if len(cadena) > len(cadena_mas_larga):\n",
        "        cadena_mas_larga = cadena\n",
        "\n",
        "print(cadena_mas_larga)\n"
      ],
      "metadata": {
        "id": "PQ1Mzi-hjsUj",
        "colab": {
          "base_uri": "https://localhost:8080/"
        },
        "outputId": "fc8a29ab-1b97-4876-8159-9217c1793fcf"
      },
      "execution_count": null,
      "outputs": [
        {
          "output_type": "stream",
          "name": "stdout",
          "text": [
            "bienvenidos\n"
          ]
        }
      ]
    },
    {
      "cell_type": "markdown",
      "source": [
        "## Ejercicio 2:\n",
        "\n",
        "Escribir un código que tome dos listas como entrada y que cree una nueva lista conteniendo sólo los elementos en común que están en las dos listas.\n",
        "\n",
        "**Nota:** no te preocupes por el tema de que pueden haber elementos duplicados en las listas."
      ],
      "metadata": {
        "id": "X25nsopJE_Qg"
      }
    },
    {
      "cell_type": "code",
      "source": [
        "# Entrada \n",
        "lista1 = [52, 46, 77, 46, 33, 20]\n",
        "lista2 = [52, 46, 63, 88, 20]\n",
        "elementos_comunes = []\n",
        "\n",
        "# Proceso\n",
        "for elemento in lista1:\n",
        "    if elemento in lista2 and elemento not in elementos_comunes:\n",
        "        elementos_comunes.append(elemento)\n",
        "\n",
        "# Salidas\n",
        "print(elementos_comunes)\n"
      ],
      "metadata": {
        "id": "Yvqx6FZhjtdr",
        "colab": {
          "base_uri": "https://localhost:8080/"
        },
        "outputId": "f92dd9c5-a1a6-46d0-c228-abc583a3355e"
      },
      "execution_count": null,
      "outputs": [
        {
          "output_type": "stream",
          "name": "stdout",
          "text": [
            "[52, 46, 20]\n"
          ]
        }
      ]
    },
    {
      "cell_type": "markdown",
      "source": [
        "## Ejercicio 3:\n",
        "\n",
        "Escribir un programa que imprima los primeros diez números de la sucesión de Fibonacci. La sucesión de Fibonacci es una secuencia de números donde cada elemento es la suma de los dos anteriores, y se comienza con el 0 y el 1."
      ],
      "metadata": {
        "id": "8bTMpwcJyjlq"
      }
    },
    {
      "cell_type": "code",
      "source": [
        "# Entrada\n",
        "fib = [0, 1]\n",
        "\n",
        "# Proceso\n",
        "for i in range(2, 10):\n",
        "    fib.append(fib[i-1] + fib[i-2])\n",
        "\n",
        "# Salida\n",
        "print(fib[:10])"
      ],
      "metadata": {
        "id": "_SJ31_VgjvNh",
        "colab": {
          "base_uri": "https://localhost:8080/"
        },
        "outputId": "eaa0f9b7-2839-4f3c-e6db-1da99d75da42"
      },
      "execution_count": 1,
      "outputs": [
        {
          "output_type": "stream",
          "name": "stdout",
          "text": [
            "[0, 1, 1, 2, 3, 5, 8, 13, 21, 34]\n"
          ]
        }
      ]
    },
    {
      "cell_type": "markdown",
      "source": [
        "## Ejercicio 4:\n",
        "\n",
        "Escribir un programa que tome una cadena como entrada y cuente la cantidad de vocales que hay en ella."
      ],
      "metadata": {
        "id": "WSgXXGEJt8KS"
      }
    },
    {
      "cell_type": "code",
      "source": [
        "# Entrada\n",
        "cadena = str(input(\"Ingrese una palabra: \"))\n",
        "vocales = \"aeiou\"\n",
        "\n",
        "# Proceso\n",
        "numero_vocales = sum(cadena.count(vocal) for vocal in vocales)\n",
        "\n",
        "# Salida\n",
        "print(\"La cantidad de vocales en la cadena es:\", numero_vocales)\n",
        "\n",
        "\n"
      ],
      "metadata": {
        "id": "fz6N7mPCjwiY",
        "colab": {
          "base_uri": "https://localhost:8080/"
        },
        "outputId": "aab52e11-9796-4274-d15e-8c415853258b"
      },
      "execution_count": 4,
      "outputs": [
        {
          "output_type": "stream",
          "name": "stdout",
          "text": [
            "Ingrese una palabra: bienvenido\n",
            "La cantidad de vocales en la cadena es: 5\n"
          ]
        }
      ]
    },
    {
      "cell_type": "markdown",
      "source": [
        "## Ejercicio 5:\n",
        "\n",
        "Escribir un programa que tome una lista de palabras (cadenas) y que imprima sólo aquellas que son palíndromos."
      ],
      "metadata": {
        "id": "L9hwZS77r-Ci"
      }
    },
    {
      "cell_type": "code",
      "source": [
        "# Entradas \n",
        "palabras = ['oso', 'casa', 'radar', 'hola', 'ana', 'reconocer']\n",
        "\n",
        "# Proceso\n",
        "for palabra in palabras:\n",
        "    if palabra == palabra[::-1]:\n",
        "        print(palabra)\n",
        "\n"
      ],
      "metadata": {
        "id": "HeqduKUjjyNb",
        "colab": {
          "base_uri": "https://localhost:8080/"
        },
        "outputId": "bdef0503-50e8-4805-f205-be50b8adc9c7"
      },
      "execution_count": 5,
      "outputs": [
        {
          "output_type": "stream",
          "name": "stdout",
          "text": [
            "oso\n",
            "radar\n",
            "ana\n",
            "reconocer\n"
          ]
        }
      ]
    },
    {
      "cell_type": "markdown",
      "source": [
        "## Ejercicio 6:\n",
        "\n",
        "El siguiente código tiene un problema. ¿Podés identificar cuál es y corregirlo?"
      ],
      "metadata": {
        "id": "zjINcbwW0VSR"
      }
    },
    {
      "cell_type": "code",
      "source": [
        "numero = 10\n",
        "\n",
        "if (numero % 2) == 1:\n",
        "  print('El número es impar')\n",
        "else:\n",
        "  print('El número es par')\n",
        "#if (numero % 2) == 0 or (numero % 2) == 1:\n",
        "#  print('El número no es ni par ni impar. Hay algo raro...') - No aporta información relevante porque el if siempre se va imprimir sin importar el numero"
      ],
      "metadata": {
        "id": "iYDykl-PxwX1",
        "colab": {
          "base_uri": "https://localhost:8080/"
        },
        "outputId": "f435f8f8-5804-4550-a76c-9674770474d0"
      },
      "execution_count": null,
      "outputs": [
        {
          "output_type": "stream",
          "name": "stdout",
          "text": [
            "El número es par\n"
          ]
        }
      ]
    },
    {
      "cell_type": "markdown",
      "source": [
        "## Ejercicio 7:\n",
        "\n",
        "El siguiente código también tiene un problema. ¿Podés identificar cuál es y corregirlo?"
      ],
      "metadata": {
        "id": "zFHQEceu0w-E"
      }
    },
    {
      "cell_type": "code",
      "source": [
        "palabra = 'Cocos'\n",
        "\n",
        "if 'a' or 'A' in palabra:\n",
        "  print(f'La palabra \\\"{palabra}\\\" no contiene una \\\"a\\\"')\n",
        "else:\n",
        "  print(f'La palabra \\\"{palabra}\\\" contiene una \\\"a\\\"')\n",
        "\n",
        "# se modifico el orden de contenido de la letra a"
      ],
      "metadata": {
        "id": "hFr6-8dy035t",
        "colab": {
          "base_uri": "https://localhost:8080/"
        },
        "outputId": "51ead226-5e2a-4622-b895-960e86152454"
      },
      "execution_count": null,
      "outputs": [
        {
          "output_type": "stream",
          "name": "stdout",
          "text": [
            "La palabra \"Cocos\" no contiene una \"a\"\n"
          ]
        }
      ]
    },
    {
      "cell_type": "markdown",
      "source": [
        "## Ejercicio 8:\n",
        "\n",
        "*FizzBuzz* es un juego de palabras grupal para que los niños aprendan sobre la división, pero se suele usar como un ejercicio clásico de programación. En el juego los jugadores se turnan para contar de forma incremental, reemplazando cualquier número divisible por tres con la palabra \"fizz\", y cualquier número divisible por cinco con la palabra \"buzz\", y cualquier número divisible por 3 y 5 con la palabra \"fizzbuzz\".\n",
        "\n",
        "Hace un programa que imprima los números del 1 al 30, pero reemplazando los múltiplos de 3 y/o 5 por \"fizz\", \"buzz\" ó \"fizzbuzz\" siguiendo las reglas del juego."
      ],
      "metadata": {
        "id": "yDWZX8nmtkYS"
      }
    },
    {
      "cell_type": "code",
      "source": [
        "for i in range(1, 31):\n",
        "    if i % 3*5 == 0:\n",
        "        print(\"FizzBuzz\")\n",
        "    elif i % 3 == 0:\n",
        "        print(\"Fizz\")\n",
        "    elif i % 5 == 0:\n",
        "        print(\"Buzz\")\n",
        "    else:\n",
        "        print(i)\n"
      ],
      "metadata": {
        "id": "zYg5-ujkj7_j",
        "colab": {
          "base_uri": "https://localhost:8080/"
        },
        "outputId": "46cec637-7bdc-436d-b088-1fbe067c86e7"
      },
      "execution_count": 7,
      "outputs": [
        {
          "output_type": "stream",
          "name": "stdout",
          "text": [
            "1\n",
            "2\n",
            "Fizz\n",
            "4\n",
            "Buzz\n",
            "Fizz\n",
            "7\n",
            "8\n",
            "Fizz\n",
            "Buzz\n",
            "11\n",
            "Fizz\n",
            "13\n",
            "14\n",
            "FizzBuzz\n",
            "16\n",
            "17\n",
            "Fizz\n",
            "19\n",
            "Buzz\n",
            "Fizz\n",
            "22\n",
            "23\n",
            "Fizz\n",
            "Buzz\n",
            "26\n",
            "Fizz\n",
            "28\n",
            "29\n",
            "FizzBuzz\n"
          ]
        }
      ]
    },
    {
      "cell_type": "markdown",
      "source": [
        "## Ejercicio 9:\n",
        "En base a las listas ficticias de alumnos, con datos como nombre, apellido, y nota (calificación).\n",
        "\n",
        "Escribir un programa que:\n",
        "\n",
        "* Imprima la nombre y apellido de los alumnos de manera ordenada alfabéticamente por el apellido\n",
        "* Calcule el promedio de notas de la cursada, e informe la nota máxima y la mínima.\n",
        "* Genere una variable llamada \"aprobados\" con un a lista de alumnos aprobados (se aprueba con 7)\n",
        "* Genere una variable (lista) conteniendo valores booleanos (True/False), que corresponda a los alummnos aprobados (`True`) o desaprobados (`False`)\n",
        "\n",
        "*NOTA: el orden de las listas es el mismo, vale decir, la nota de Laura Pérez es 7, y asi sucesivamente.*"
      ],
      "metadata": {
        "id": "pAUIhj7kW23u"
      }
    },
    {
      "cell_type": "code",
      "source": [
        "nombres = ['Laura', 'Juan', 'Tomás', 'Ana', 'Diego', 'Carla', 'Kim', 'Sofía']\n",
        "apellidos = ['Pérez', 'Isla', 'Gómez', 'Castro', 'Roca', 'Romero', 'Díaz', 'López']\n",
        "notas = [7, 4, 9, 5, 7, 8, 6, 10]\n",
        "\n",
        "\n",
        "# Tu codigo\n"
      ],
      "metadata": {
        "id": "Ky2HC_Getggt"
      },
      "execution_count": null,
      "outputs": []
    }
  ]
}