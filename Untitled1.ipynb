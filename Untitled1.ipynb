{
  "nbformat": 4,
  "nbformat_minor": 0,
  "metadata": {
    "colab": {
      "provenance": [],
      "authorship_tag": "ABX9TyPznIuEsACL/v6X/Sf0sc7i",
      "include_colab_link": true
    },
    "kernelspec": {
      "name": "python3",
      "display_name": "Python 3"
    },
    "language_info": {
      "name": "python"
    }
  },
  "cells": [
    {
      "cell_type": "markdown",
      "metadata": {
        "id": "view-in-github",
        "colab_type": "text"
      },
      "source": [
        "<a href=\"https://colab.research.google.com/github/fnweb3/Argentina-Programa-4.0/blob/master/Untitled1.ipynb\" target=\"_parent\"><img src=\"https://colab.research.google.com/assets/colab-badge.svg\" alt=\"Open In Colab\"/></a>"
      ]
    },
    {
      "cell_type": "code",
      "execution_count": 6,
      "metadata": {
        "colab": {
          "base_uri": "https://localhost:8080/"
        },
        "id": "mQRKCZDHHedR",
        "outputId": "06b6e048-3f7f-490d-937a-6e2caff0c4fb"
      },
      "outputs": [
        {
          "output_type": "stream",
          "name": "stdout",
          "text": [
            "hello\n",
            "Hallo world\n"
          ]
        }
      ],
      "source": [
        "S = '   Hello '\n",
        "t = S.strip()\n",
        "m = t.upper()\n",
        "n = t.lower()\n",
        "#print(n)\n",
        "\n",
        "s = 'Hello world'\n",
        "T = s.replace('Hello' , 'Hallo')    \n",
        "print(T)\n",
        "\n"
      ]
    }
  ]
}