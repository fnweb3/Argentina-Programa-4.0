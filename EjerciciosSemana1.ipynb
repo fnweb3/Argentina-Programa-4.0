{
  "nbformat": 4,
  "nbformat_minor": 0,
  "metadata": {
    "colab": {
      "provenance": [],
      "include_colab_link": true
    },
    "kernelspec": {
      "name": "python3",
      "display_name": "Python 3"
    },
    "language_info": {
      "name": "python"
    }
  },
  "cells": [
    {
      "cell_type": "markdown",
      "metadata": {
        "id": "view-in-github",
        "colab_type": "text"
      },
      "source": [
        "<a href=\"https://colab.research.google.com/github/fnweb3/Argentina-Programa-4.0/blob/master/EjerciciosSemana1.ipynb\" target=\"_parent\"><img src=\"https://colab.research.google.com/assets/colab-badge.svg\" alt=\"Open In Colab\"/></a>"
      ]
    },
    {
      "cell_type": "markdown",
      "source": [
        "# Ejercicios – Semana 1\n",
        "\n",
        "Conjunto de ejercicios simples para practicar lo aprendido en la Semana 1. El Miércoles 1/3 subiremos los ejercicios resueltos para auto-correción."
      ],
      "metadata": {
        "id": "hdp-7LvjSKIh"
      }
    },
    {
      "cell_type": "markdown",
      "source": [
        "## Ejercicio 1:\n",
        "\n",
        "> a. Crea 3 variables, una entera, una flotante y una cadena de texto.\n",
        "\n",
        "> b. Imprime cada una de las variables en la consola.\n",
        "\n",
        "> c. Crea una variable booleana y asignale un valor.\n",
        "\n",
        "> d. Imprime la variable booleana en la consola.\n",
        "\n",
        "\n",
        "\n",
        "\n",
        "\n",
        "\n"
      ],
      "metadata": {
        "id": "R4kQYksDjjGT"
      }
    },
    {
      "cell_type": "code",
      "source": [
        "# Declaro las tres variables, con sus respectivos tipos aclarados en sus nombres\n",
        "\n",
        "variable_entera = 15\n",
        "variable_flotante = 1.05\n",
        "variable_cadena = \"Hola mundo\"\n",
        "variable_booleana = True\n",
        "\n",
        "print(variable_entera)\n",
        "print(variable_flotante)\n",
        "print(variable_cadena)\n",
        "print(variable_booleana)\n",
        "\n",
        "# completa los valores de las variables de acuerdo a su tipo\n",
        "# ... (ahora podes seguir con el código....)"
      ],
      "metadata": {
        "id": "pXAhHqr4PYrO",
        "colab": {
          "base_uri": "https://localhost:8080/"
        },
        "outputId": "10d8912c-d8a5-449a-dd04-a363b62d8577"
      },
      "execution_count": 3,
      "outputs": [
        {
          "output_type": "stream",
          "name": "stdout",
          "text": [
            "15\n",
            "1.05\n",
            "Hola mundo\n",
            "True\n"
          ]
        }
      ]
    },
    {
      "cell_type": "markdown",
      "source": [
        "## Ejercicio 2:\n",
        "\n",
        "> a.    Crea una variable entera llamada edad y asígnale un valor.\n",
        "\n",
        "> b.    Crea una variable flotante llamada altura y asígnale un valor.\n",
        "\n",
        "> c.    Crea una variable de texto llamada nombre y asígnale un valor.\n",
        "\n",
        "> d.    Crea una variable booleana llamada soltero y asígnale un valor.\n",
        "\n",
        "> e.    Imprime en la consola la edad, la altura, el nombre y el estado civil (soltero o no soltero).\n",
        "\n",
        "> f.    Crea una variable llamada todos_datos que sea una lista que contenga la edad, la altura, el nombre y el estado civil.\n",
        "\n",
        "> g.    Imprime la lista todos_datos en la consola."
      ],
      "metadata": {
        "id": "BA4V2CDDkpvE"
      }
    },
    {
      "cell_type": "code",
      "source": [
        "\n",
        "edad = 25\n",
        "altura = 1.75\n",
        "nombre = \"Jose Sanchez\"\n",
        "soltero = True\n",
        "\n",
        "print(\"Edad = \", edad)\n",
        "print(\"Altura = \", altura)\n",
        "print(\"nombre = \", nombre)\n",
        "print(\"Soltero = \", soltero)\n",
        "\n",
        "todos_datos = [edad, altura, nombre, soltero]\n",
        "\n",
        "print(todos_datos)\n",
        "\n",
        "\n",
        "#... (ahora podes seguir con el código....)"
      ],
      "metadata": {
        "id": "YsNiiQfFPoBD",
        "colab": {
          "base_uri": "https://localhost:8080/"
        },
        "outputId": "505df9bd-239c-4a78-afbd-e897687f407b"
      },
      "execution_count": 2,
      "outputs": [
        {
          "output_type": "stream",
          "name": "stdout",
          "text": [
            "Edad =  25\n",
            "Altura =  1.75\n",
            "nombre =  Jose Sanchez\n",
            "Soltero =  True\n",
            "[25, 1.75, 'Jose Sanchez', True]\n"
          ]
        }
      ]
    },
    {
      "cell_type": "markdown",
      "source": [
        "## Ejercicio 3:\n",
        "\n",
        "\n",
        "*El índice de masa corporal (IMC) se puede calcular utilizando la siguiente fórmula:*\n",
        "\n",
        "> *IMC = P / A^2*\n",
        "\n",
        "> *donde P es el peso de la persona en kilogramos y A es la altura de la misma persona en metros. La fórmula resulta en un número que se utiliza para determinar si una persona está en un peso saludable o no.* \n",
        "\n",
        "*Un IMC normal se encuentra entre 18.5 y 24.9 kg/m^2. Un IMC menor a 18.5 kg/m^2 se considera bajo peso, mientras que un IMC mayor a 25 kg/m^2 se considera sobrepeso. Un IMC mayor a 30 kg/m^2 se considera obesidad. Sin embargo, estos valores son solo una guía y no son válidos para todas las personas, especialmente aquellas con una gran cantidad de músculo o deportistas.*\n",
        "\n",
        "**Crea un programa que te pida (usando input()) las siguientes informaciones: nombre, edad, peso en kg y altura en m y que te devuelva el nombre, la edad y el índice de masa corporal de esa persona.**\n",
        "\n",
        "\n",
        "*PISTA: input() siempre devuelve siempre una cadena*"
      ],
      "metadata": {
        "id": "6TxFmlq8ncGe"
      }
    },
    {
      "cell_type": "code",
      "source": [
        "\n",
        "# input() promptea al usuario y guarda esa variable COMO UNA CADENA (str).\n",
        "nombre = input('¿Nombre?: ')\n",
        "edad  = int(input('¿Edad?: '))\n",
        "# Como input guarda la variable como cadena, hay que 'castearla' (convertir su tipo) a entero, # con la funcion int() (int=integer=entero)\n",
        "# ¿Que pasa si el usuario introduce una palabra en vez de un numero?\n",
        "peso = int(input('¿Peso en kg?: '))\n",
        "altura = float(input('¿Altura en m: '))\n",
        "\n",
        "IMC = peso/(altura**2)\n",
        "\n",
        "print('Su nombre es:', nombre)\n",
        "print('Su edad es: ', edad)\n",
        "print('El índice de masa corporal es: ', IMC)"
      ],
      "metadata": {
        "id": "xf7SOLPQP4lR",
        "colab": {
          "base_uri": "https://localhost:8080/"
        },
        "outputId": "5a184dca-87f4-4e12-9908-89352187c161"
      },
      "execution_count": 5,
      "outputs": [
        {
          "output_type": "stream",
          "name": "stdout",
          "text": [
            "¿Nombre?: Fernando\n",
            "¿Edad?: 25\n",
            "¿Peso en kg?: 90\n",
            "¿Altura en m: 1.78\n",
            "Su nombre es: Fernando\n",
            "Su edad es:  25\n",
            "El índice de masa corporal es:  28.40550435551067\n"
          ]
        }
      ]
    },
    {
      "cell_type": "markdown",
      "source": [
        "## Ejercicio 4:\n",
        "\n",
        "Crea un código que declare una variable con el número 5 elevado a la cuarta potencia. Luego que escriba en pantalla un mensaje que diga el tipo de variable declarada. Luego hacer lo mismo, pero cambiando el exponente a 1/2 y a una potencia negativa.  "
      ],
      "metadata": {
        "id": "EeoH-sH4-a_y"
      }
    },
    {
      "cell_type": "code",
      "source": [
        "A = 5**4\n",
        "print('La variable A es del tipo: ', type(A))\n",
        "\n",
        "B = 5**1/2\n",
        "print('La Variable B es del tipo: ', type(B))\n",
        "\n",
        "C = 5**-1\n",
        "print('La variable C es del tipo: ', type(C))"
      ],
      "metadata": {
        "colab": {
          "base_uri": "https://localhost:8080/"
        },
        "id": "3liHO1Kboz46",
        "outputId": "9fcb9675-a11c-48b5-bbab-55297830b6bb"
      },
      "execution_count": 6,
      "outputs": [
        {
          "output_type": "stream",
          "name": "stdout",
          "text": [
            "La variable A es del tipo:  <class 'int'>\n",
            "La Variable B es del tipo:  <class 'float'>\n",
            "La variable C es del tipo:  <class 'float'>\n"
          ]
        }
      ]
    },
    {
      "cell_type": "markdown",
      "source": [
        "## Ejercicio 5:\n",
        "\n",
        "Crea un código que tome como parámetro una frase y sea capaz de contar el número de palabras que contiene. Haga un test con la frase: \"Me gusta estudiar python en la UNSAM\". \n",
        "\n",
        "Y si queremos contar los caracteres incluyendo los espacios. ¿Cómo seria?\n",
        "\n",
        "Prueba con otras frases, para eso podes usar la funcion de ingreso de valores por teclado. "
      ],
      "metadata": {
        "id": "ml9uC-cTAjjK"
      }
    },
    {
      "cell_type": "code",
      "source": [
        "parametro = \"Me gusta estudiar python en la UNSAM\"\n",
        "parametro2 = str(input(\"Ingresa una frase : \"))\n",
        "\n",
        "print(\"Cantidad de letras en parametro: \", len(parametro))\n",
        "print(\"Cantidad de palabras de la frase: \", len(parametro2))\n"
      ],
      "metadata": {
        "colab": {
          "base_uri": "https://localhost:8080/"
        },
        "id": "b00e1keqo9vu",
        "outputId": "b2789c5b-7c52-4996-842b-c881e162fc31"
      },
      "execution_count": 10,
      "outputs": [
        {
          "output_type": "stream",
          "name": "stdout",
          "text": [
            "Ingresa una frase : Es una frase muy bonita\n",
            "Cantidad de letras en parametro 36\n",
            "Cantidad de palabras e la frase 23\n"
          ]
        }
      ]
    },
    {
      "cell_type": "markdown",
      "source": [
        "## Ejercicio 6:\n",
        "\n",
        "Escriba un programa que reciba dos números y los compare dando como resultado verdadero o falso ante la frase: El primer número es menor que el segundo. "
      ],
      "metadata": {
        "id": "VlhyuuSFCy4X"
      }
    },
    {
      "cell_type": "markdown",
      "source": [
        "## Ejercicio 7:\n",
        "\n",
        "Cree un programa en python que calcule el promedio entre 2 notas."
      ],
      "metadata": {
        "id": "XQZ0Tu2GIi7X"
      }
    },
    {
      "cell_type": "markdown",
      "source": [
        "## Ejercicio 8:\n",
        " \n",
        "Escriba un programa que se utilizará para decidir si un alumno ha aprobado o no. Para ser aprobado, todos los promedios del alumno deben ser superiores a 7. Considere que el alumno cursa\n",
        "sólo tres asignaturas, y que la calificación de cada una de ellas se almacena en las siguientes variables: materia1, materia2 y materia3."
      ],
      "metadata": {
        "id": "3ewJrDVMJ7AB"
      }
    },
    {
      "cell_type": "markdown",
      "source": [
        "## Ejercicio 9:\n",
        "\n",
        "Escriba un programa que lea input del usuario: cantidad de días, horas, minutos y segundos y que en base a esos datos, calcule el total en segundos."
      ],
      "metadata": {
        "id": "8jHOvbRlAiFM"
      }
    },
    {
      "cell_type": "markdown",
      "source": [
        "# Ejercicio 10:\n",
        "\n",
        "Haga un programa que pregunte por el precio de una mercaderia y el porcentaje de descuento de la misma y que calcule el importe del descuento y el precio a pagar."
      ],
      "metadata": {
        "id": "lwS4uvFUL3kW"
      }
    },
    {
      "cell_type": "markdown",
      "source": [
        "## Ejercicio 11:\n",
        "\n",
        "El alquiler de un auto cuesta `$3000` por día y `$220` por cada kilometro recorrido. Escriba un programa que calcule el valor a pagar dependiendo del número de días alquilado y de km total recorridos. \n",
        "\n",
        "Verifique su programa calculando el importe a pagar por un alquiler de 10 días y 400 kilometros recorridos en esos 10 días. Pruebe otros ejemplos. \n"
      ],
      "metadata": {
        "id": "_d2Us7YKMoUs"
      }
    },
    {
      "cell_type": "markdown",
      "source": [
        "## Ejercicio 12:\n",
        "\n",
        "Crea un programa que calcule el área de un rectángulo."
      ],
      "metadata": {
        "id": "VXfQxVinNC1Z"
      }
    }
  ]
}